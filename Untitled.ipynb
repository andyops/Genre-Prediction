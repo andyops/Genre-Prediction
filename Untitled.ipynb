{
 "cells": [
  {
   "cell_type": "markdown",
   "id": "35a9afd6-14ea-4dae-abaa-b9136cbf484f",
   "metadata": {},
   "source": [
    "imdb genre detection using TF-IDF \n",
    "and naive baiyes "
   ]
  },
  {
   "cell_type": "code",
   "execution_count": 53,
   "outputs": [],
   "source": [
    "import pandas as pd\n",
    "import numpy as np\n",
    "import matplotlib.pyplot as plt\n",
    "import seaborn as sns\n",
    "\n",
    "sns.set(rc={'figure.figsize':(18,8)},style='darkgrid')\n",
    "from time import time\n",
    "from sklearn.feature_extraction.text import TfidfVectorizer\n",
    "from sklearn.naive_bayes import MultinomialNB\n",
    "from sklearn.metrics import *\n",
    "import warnings\n",
    "warnings.filterwarnings('ignore')"
   ],
   "metadata": {
    "collapsed": false,
    "ExecuteTime": {
     "end_time": "2023-12-30T10:20:09.922059300Z",
     "start_time": "2023-12-30T10:20:09.877435800Z"
    }
   },
   "id": "3008071be96f6a3d"
  },
  {
   "cell_type": "code",
   "execution_count": 54,
   "outputs": [
    {
     "data": {
      "text/plain": "                                              TITLE          GENRE  \\\n0                     Oscar et la dame rose (2009)          drama    \n1                                     Cupid (1997)       thriller    \n2                 Young, Wild and Wonderful (1980)          adult    \n3                            The Secret Sin (1915)          drama    \n4                           The Unrecovered (2007)          drama    \n...                                             ...            ...   \n54209                              \"Bonino\" (1953)         comedy    \n54210                  Dead Girls Don't Cry (????)         horror    \n54211    Ronald Goedemondt: Ze bestaan echt (2008)    documentary    \n54212                     Make Your Own Bed (1944)         comedy    \n54213   Nature's Fury: Storm of the Century (2006)        history    \n\n                                             DESCRIPTION  \n0       Listening in to a conversation between his do...  \n1       A brother and sister with a past incestuous r...  \n2       As the bus empties the students for their fie...  \n3       To help their unemployed father make ends mee...  \n4       The film's title refers not only to the un-re...  \n...                                                  ...  \n54209   This short-lived NBC live sitcom centered on ...  \n54210   The NEXT Generation of EXPLOITATION. The sist...  \n54211   Ze bestaan echt, is a stand-up comedy about g...  \n54212   Walter and Vivian live in the country and hav...  \n54213   On Labor Day Weekend, 1935, the most intense ...  \n\n[54214 rows x 3 columns]",
      "text/html": "<div>\n<style scoped>\n    .dataframe tbody tr th:only-of-type {\n        vertical-align: middle;\n    }\n\n    .dataframe tbody tr th {\n        vertical-align: top;\n    }\n\n    .dataframe thead th {\n        text-align: right;\n    }\n</style>\n<table border=\"1\" class=\"dataframe\">\n  <thead>\n    <tr style=\"text-align: right;\">\n      <th></th>\n      <th>TITLE</th>\n      <th>GENRE</th>\n      <th>DESCRIPTION</th>\n    </tr>\n  </thead>\n  <tbody>\n    <tr>\n      <th>0</th>\n      <td>Oscar et la dame rose (2009)</td>\n      <td>drama</td>\n      <td>Listening in to a conversation between his do...</td>\n    </tr>\n    <tr>\n      <th>1</th>\n      <td>Cupid (1997)</td>\n      <td>thriller</td>\n      <td>A brother and sister with a past incestuous r...</td>\n    </tr>\n    <tr>\n      <th>2</th>\n      <td>Young, Wild and Wonderful (1980)</td>\n      <td>adult</td>\n      <td>As the bus empties the students for their fie...</td>\n    </tr>\n    <tr>\n      <th>3</th>\n      <td>The Secret Sin (1915)</td>\n      <td>drama</td>\n      <td>To help their unemployed father make ends mee...</td>\n    </tr>\n    <tr>\n      <th>4</th>\n      <td>The Unrecovered (2007)</td>\n      <td>drama</td>\n      <td>The film's title refers not only to the un-re...</td>\n    </tr>\n    <tr>\n      <th>...</th>\n      <td>...</td>\n      <td>...</td>\n      <td>...</td>\n    </tr>\n    <tr>\n      <th>54209</th>\n      <td>\"Bonino\" (1953)</td>\n      <td>comedy</td>\n      <td>This short-lived NBC live sitcom centered on ...</td>\n    </tr>\n    <tr>\n      <th>54210</th>\n      <td>Dead Girls Don't Cry (????)</td>\n      <td>horror</td>\n      <td>The NEXT Generation of EXPLOITATION. The sist...</td>\n    </tr>\n    <tr>\n      <th>54211</th>\n      <td>Ronald Goedemondt: Ze bestaan echt (2008)</td>\n      <td>documentary</td>\n      <td>Ze bestaan echt, is a stand-up comedy about g...</td>\n    </tr>\n    <tr>\n      <th>54212</th>\n      <td>Make Your Own Bed (1944)</td>\n      <td>comedy</td>\n      <td>Walter and Vivian live in the country and hav...</td>\n    </tr>\n    <tr>\n      <th>54213</th>\n      <td>Nature's Fury: Storm of the Century (2006)</td>\n      <td>history</td>\n      <td>On Labor Day Weekend, 1935, the most intense ...</td>\n    </tr>\n  </tbody>\n</table>\n<p>54214 rows × 3 columns</p>\n</div>"
     },
     "execution_count": 54,
     "metadata": {},
     "output_type": "execute_result"
    }
   ],
   "source": [
    "# read the data\n",
    "# Train data:\n",
    "# ID ::: TITLE ::: GENRE ::: DESCRIPTION\n",
    "# ID ::: TITLE ::: GENRE ::: DESCRIPTION\n",
    "# ID ::: TITLE ::: GENRE ::: DESCRIPTION\n",
    "# ID ::: TITLE ::: GENRE ::: DESCRIPTION\n",
    "# \n",
    "# Test data:\n",
    "# ID ::: TITLE ::: DESCRIPTION\n",
    "# ID ::: TITLE ::: DESCRIPTION\n",
    "# ID ::: TITLE ::: DESCRIPTION\n",
    "# ID ::: TITLE ::: DESCRIPTION\n",
    "# \n",
    "# Source:\n",
    "# ftp://ftp.fu-berlin.de/pub/misc/movies/database/\n",
    "imdb_data = pd.read_table('Genre Classification Dataset/train_data.txt' , sep = ':::', header = None, names = [ 'TITLE', 'GENRE', 'DESCRIPTION'] , engine = 'python').reset_index(drop = True)\n",
    "imdb_data"
   ],
   "metadata": {
    "collapsed": false,
    "ExecuteTime": {
     "end_time": "2023-12-30T10:20:10.568252600Z",
     "start_time": "2023-12-30T10:20:09.900001100Z"
    }
   },
   "id": "d84a449d0b363ba6"
  },
  {
   "cell_type": "code",
   "outputs": [
    {
     "data": {
      "text/plain": "                                  TITLE  \\\n0                 Edgar's Lunch (1998)    \n1             La guerra de papá (1977)    \n2          Off the Beaten Track (2010)    \n3               Meu Amigo Hindu (2015)    \n4                    Er nu zhai (1955)    \n...                                 ...   \n54195   \"Tales of Light & Dark\" (2013)    \n54196      Der letzte Mohikaner (1965)    \n54197              Oliver Twink (2007)    \n54198                Slipstream (1973)    \n54199        Curitiba Zero Grau (2010)    \n\n                                             DESCRIPTION  \n0       L.R. Brane loves his life - his car, his apar...  \n1       Spain, March 1964: Quico is a very naughty ch...  \n2       One year in the life of Albin and his family ...  \n3       His father has died, he hasn't spoken with hi...  \n4       Before he was known internationally as a mart...  \n...                                                  ...  \n54195   Covering multiple genres, Tales of Light & Da...  \n54196   As Alice and Cora Munro attempt to find their...  \n54197   A movie 169 years in the making. Oliver Twist...  \n54198   Popular, but mysterious rock D.J Mike Mallard...  \n54199   Curitiba is a city in movement, with rhythms ...  \n\n[54200 rows x 2 columns]",
      "text/html": "<div>\n<style scoped>\n    .dataframe tbody tr th:only-of-type {\n        vertical-align: middle;\n    }\n\n    .dataframe tbody tr th {\n        vertical-align: top;\n    }\n\n    .dataframe thead th {\n        text-align: right;\n    }\n</style>\n<table border=\"1\" class=\"dataframe\">\n  <thead>\n    <tr style=\"text-align: right;\">\n      <th></th>\n      <th>TITLE</th>\n      <th>DESCRIPTION</th>\n    </tr>\n  </thead>\n  <tbody>\n    <tr>\n      <th>0</th>\n      <td>Edgar's Lunch (1998)</td>\n      <td>L.R. Brane loves his life - his car, his apar...</td>\n    </tr>\n    <tr>\n      <th>1</th>\n      <td>La guerra de papá (1977)</td>\n      <td>Spain, March 1964: Quico is a very naughty ch...</td>\n    </tr>\n    <tr>\n      <th>2</th>\n      <td>Off the Beaten Track (2010)</td>\n      <td>One year in the life of Albin and his family ...</td>\n    </tr>\n    <tr>\n      <th>3</th>\n      <td>Meu Amigo Hindu (2015)</td>\n      <td>His father has died, he hasn't spoken with hi...</td>\n    </tr>\n    <tr>\n      <th>4</th>\n      <td>Er nu zhai (1955)</td>\n      <td>Before he was known internationally as a mart...</td>\n    </tr>\n    <tr>\n      <th>...</th>\n      <td>...</td>\n      <td>...</td>\n    </tr>\n    <tr>\n      <th>54195</th>\n      <td>\"Tales of Light &amp; Dark\" (2013)</td>\n      <td>Covering multiple genres, Tales of Light &amp; Da...</td>\n    </tr>\n    <tr>\n      <th>54196</th>\n      <td>Der letzte Mohikaner (1965)</td>\n      <td>As Alice and Cora Munro attempt to find their...</td>\n    </tr>\n    <tr>\n      <th>54197</th>\n      <td>Oliver Twink (2007)</td>\n      <td>A movie 169 years in the making. Oliver Twist...</td>\n    </tr>\n    <tr>\n      <th>54198</th>\n      <td>Slipstream (1973)</td>\n      <td>Popular, but mysterious rock D.J Mike Mallard...</td>\n    </tr>\n    <tr>\n      <th>54199</th>\n      <td>Curitiba Zero Grau (2010)</td>\n      <td>Curitiba is a city in movement, with rhythms ...</td>\n    </tr>\n  </tbody>\n</table>\n<p>54200 rows × 2 columns</p>\n</div>"
     },
     "execution_count": 55,
     "metadata": {},
     "output_type": "execute_result"
    }
   ],
   "source": [
    "# read the test data\n",
    "imdb_test_data = pd.read_table('Genre Classification Dataset/test_data.txt' , sep = ':::', header = None, names = [ 'TITLE', 'DESCRIPTION'] , engine = 'python').reset_index(drop = True)\n",
    "imdb_test_data"
   ],
   "metadata": {
    "collapsed": false,
    "ExecuteTime": {
     "end_time": "2023-12-30T10:20:11.086668200Z",
     "start_time": "2023-12-30T10:20:10.567241500Z"
    }
   },
   "id": "500e08c073b37ab2",
   "execution_count": 55
  },
  {
   "cell_type": "code",
   "outputs": [
    {
     "data": {
      "text/plain": "                                  TITLE          GENRE  \\\n0                 Edgar's Lunch (1998)       thriller    \n1             La guerra de papá (1977)         comedy    \n2          Off the Beaten Track (2010)    documentary    \n3               Meu Amigo Hindu (2015)          drama    \n4                    Er nu zhai (1955)          drama    \n...                                 ...            ...   \n54195   \"Tales of Light & Dark\" (2013)         horror    \n54196      Der letzte Mohikaner (1965)        western    \n54197              Oliver Twink (2007)          adult    \n54198                Slipstream (1973)          drama    \n54199        Curitiba Zero Grau (2010)          drama    \n\n                                             DESCRIPTION  \n0       L.R. Brane loves his life - his car, his apar...  \n1       Spain, March 1964: Quico is a very naughty ch...  \n2       One year in the life of Albin and his family ...  \n3       His father has died, he hasn't spoken with hi...  \n4       Before he was known internationally as a mart...  \n...                                                  ...  \n54195   Covering multiple genres, Tales of Light & Da...  \n54196   As Alice and Cora Munro attempt to find their...  \n54197   A movie 169 years in the making. Oliver Twist...  \n54198   Popular, but mysterious rock D.J Mike Mallard...  \n54199   Curitiba is a city in movement, with rhythms ...  \n\n[54200 rows x 3 columns]",
      "text/html": "<div>\n<style scoped>\n    .dataframe tbody tr th:only-of-type {\n        vertical-align: middle;\n    }\n\n    .dataframe tbody tr th {\n        vertical-align: top;\n    }\n\n    .dataframe thead th {\n        text-align: right;\n    }\n</style>\n<table border=\"1\" class=\"dataframe\">\n  <thead>\n    <tr style=\"text-align: right;\">\n      <th></th>\n      <th>TITLE</th>\n      <th>GENRE</th>\n      <th>DESCRIPTION</th>\n    </tr>\n  </thead>\n  <tbody>\n    <tr>\n      <th>0</th>\n      <td>Edgar's Lunch (1998)</td>\n      <td>thriller</td>\n      <td>L.R. Brane loves his life - his car, his apar...</td>\n    </tr>\n    <tr>\n      <th>1</th>\n      <td>La guerra de papá (1977)</td>\n      <td>comedy</td>\n      <td>Spain, March 1964: Quico is a very naughty ch...</td>\n    </tr>\n    <tr>\n      <th>2</th>\n      <td>Off the Beaten Track (2010)</td>\n      <td>documentary</td>\n      <td>One year in the life of Albin and his family ...</td>\n    </tr>\n    <tr>\n      <th>3</th>\n      <td>Meu Amigo Hindu (2015)</td>\n      <td>drama</td>\n      <td>His father has died, he hasn't spoken with hi...</td>\n    </tr>\n    <tr>\n      <th>4</th>\n      <td>Er nu zhai (1955)</td>\n      <td>drama</td>\n      <td>Before he was known internationally as a mart...</td>\n    </tr>\n    <tr>\n      <th>...</th>\n      <td>...</td>\n      <td>...</td>\n      <td>...</td>\n    </tr>\n    <tr>\n      <th>54195</th>\n      <td>\"Tales of Light &amp; Dark\" (2013)</td>\n      <td>horror</td>\n      <td>Covering multiple genres, Tales of Light &amp; Da...</td>\n    </tr>\n    <tr>\n      <th>54196</th>\n      <td>Der letzte Mohikaner (1965)</td>\n      <td>western</td>\n      <td>As Alice and Cora Munro attempt to find their...</td>\n    </tr>\n    <tr>\n      <th>54197</th>\n      <td>Oliver Twink (2007)</td>\n      <td>adult</td>\n      <td>A movie 169 years in the making. Oliver Twist...</td>\n    </tr>\n    <tr>\n      <th>54198</th>\n      <td>Slipstream (1973)</td>\n      <td>drama</td>\n      <td>Popular, but mysterious rock D.J Mike Mallard...</td>\n    </tr>\n    <tr>\n      <th>54199</th>\n      <td>Curitiba Zero Grau (2010)</td>\n      <td>drama</td>\n      <td>Curitiba is a city in movement, with rhythms ...</td>\n    </tr>\n  </tbody>\n</table>\n<p>54200 rows × 3 columns</p>\n</div>"
     },
     "execution_count": 56,
     "metadata": {},
     "output_type": "execute_result"
    }
   ],
   "source": [
    "test_data_solution = pd.read_table('Genre Classification Dataset/test_data_solution.txt' , sep = ':::', header = None, names = [ 'TITLE', 'GENRE', 'DESCRIPTION'] , engine = 'python').reset_index(drop = True)\n",
    "test_data_solution"
   ],
   "metadata": {
    "collapsed": false,
    "ExecuteTime": {
     "end_time": "2023-12-30T10:20:11.851475400Z",
     "start_time": "2023-12-30T10:20:11.080320900Z"
    }
   },
   "id": "ef6422120585ed07",
   "execution_count": 56
  },
  {
   "cell_type": "code",
   "outputs": [],
   "source": [
    "#vectorization\n",
    "vectorizer = TfidfVectorizer(stop_words = 'english' , min_df=2 , ngram_range=(1,1) )\n",
    "x_train = vectorizer.fit_transform(imdb_data['DESCRIPTION'].values)\n",
    "x_test = vectorizer.transform(imdb_test_data['DESCRIPTION'].values)"
   ],
   "metadata": {
    "collapsed": false,
    "ExecuteTime": {
     "end_time": "2023-12-30T10:20:22.684133200Z",
     "start_time": "2023-12-30T10:20:11.916457500Z"
    }
   },
   "id": "fb03a0b99f19afc0",
   "execution_count": 57
  },
  {
   "cell_type": "markdown",
   "source": [
    "Navie baiyes"
   ],
   "metadata": {
    "collapsed": false
   },
   "id": "a881ab77a528fb03"
  },
  {
   "cell_type": "code",
   "outputs": [
    {
     "name": "stdout",
     "output_type": "stream",
     "text": [
      "[' drama ' ' drama ' ' documentary ' ... ' drama ' ' drama '\n",
      " ' documentary ']\n",
      "Accuracy:  0.4584132841328413\n"
     ]
    }
   ],
   "source": [
    "from sklearn import metrics\n",
    "\n",
    "#navie baiyes\n",
    "clf = MultinomialNB()\n",
    "clf.fit(x_train, imdb_data['GENRE'].values)\n",
    "y_pred = clf.predict(x_test)\n",
    "print(y_pred)\n",
    "acc = metrics.accuracy_score(test_data_solution['GENRE'].values, y_pred)\n",
    "print(\"Accuracy: \", acc)"
   ],
   "metadata": {
    "collapsed": false,
    "ExecuteTime": {
     "end_time": "2023-12-30T10:20:23.289464Z",
     "start_time": "2023-12-30T10:20:22.688134900Z"
    }
   },
   "id": "6621a768bc4211c2",
   "execution_count": 58
  }
 ],
 "metadata": {
  "kernelspec": {
   "display_name": "Python 3 (ipykernel)",
   "language": "python",
   "name": "python3"
  },
  "language_info": {
   "codemirror_mode": {
    "name": "ipython",
    "version": 3
   },
   "file_extension": ".py",
   "mimetype": "text/x-python",
   "name": "python",
   "nbconvert_exporter": "python",
   "pygments_lexer": "ipython3",
   "version": "3.11.5"
  }
 },
 "nbformat": 4,
 "nbformat_minor": 5
}
