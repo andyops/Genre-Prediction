{
 "cells": [
  {
   "cell_type": "markdown",
   "id": "35a9afd6-14ea-4dae-abaa-b9136cbf484f",
   "metadata": {},
   "source": [
    "imdb genre detection using TF-IDF \n",
    "and naive baiyes "
   ]
  },
  {
   "cell_type": "code",
   "execution_count": 1,
   "outputs": [],
   "source": [
    "import pandas as pd\n",
    "import numpy as np\n",
    "import matplotlib.pyplot as plt\n",
    "import sklearn\n",
    "from sklearn.feature_extraction.text import TfidfVectorizer\n",
    "from sklearn.naive_bayes import MultinomialNB\n",
    "from sklearn import metrics"
   ],
   "metadata": {
    "collapsed": false,
    "ExecuteTime": {
     "end_time": "2023-12-30T09:38:45.239863700Z",
     "start_time": "2023-12-30T09:38:42.253935400Z"
    }
   },
   "id": "3008071be96f6a3d"
  },
  {
   "cell_type": "code",
   "execution_count": 2,
   "outputs": [
    {
     "data": {
      "text/plain": "                                              TITLE          GENRE  \\\n0                     Oscar et la dame rose (2009)          drama    \n1                                     Cupid (1997)       thriller    \n2                 Young, Wild and Wonderful (1980)          adult    \n3                            The Secret Sin (1915)          drama    \n4                           The Unrecovered (2007)          drama    \n...                                             ...            ...   \n54209                              \"Bonino\" (1953)         comedy    \n54210                  Dead Girls Don't Cry (????)         horror    \n54211    Ronald Goedemondt: Ze bestaan echt (2008)    documentary    \n54212                     Make Your Own Bed (1944)         comedy    \n54213   Nature's Fury: Storm of the Century (2006)        history    \n\n                                             DESCRIPTION  \n0       Listening in to a conversation between his do...  \n1       A brother and sister with a past incestuous r...  \n2       As the bus empties the students for their fie...  \n3       To help their unemployed father make ends mee...  \n4       The film's title refers not only to the un-re...  \n...                                                  ...  \n54209   This short-lived NBC live sitcom centered on ...  \n54210   The NEXT Generation of EXPLOITATION. The sist...  \n54211   Ze bestaan echt, is a stand-up comedy about g...  \n54212   Walter and Vivian live in the country and hav...  \n54213   On Labor Day Weekend, 1935, the most intense ...  \n\n[54214 rows x 3 columns]",
      "text/html": "<div>\n<style scoped>\n    .dataframe tbody tr th:only-of-type {\n        vertical-align: middle;\n    }\n\n    .dataframe tbody tr th {\n        vertical-align: top;\n    }\n\n    .dataframe thead th {\n        text-align: right;\n    }\n</style>\n<table border=\"1\" class=\"dataframe\">\n  <thead>\n    <tr style=\"text-align: right;\">\n      <th></th>\n      <th>TITLE</th>\n      <th>GENRE</th>\n      <th>DESCRIPTION</th>\n    </tr>\n  </thead>\n  <tbody>\n    <tr>\n      <th>0</th>\n      <td>Oscar et la dame rose (2009)</td>\n      <td>drama</td>\n      <td>Listening in to a conversation between his do...</td>\n    </tr>\n    <tr>\n      <th>1</th>\n      <td>Cupid (1997)</td>\n      <td>thriller</td>\n      <td>A brother and sister with a past incestuous r...</td>\n    </tr>\n    <tr>\n      <th>2</th>\n      <td>Young, Wild and Wonderful (1980)</td>\n      <td>adult</td>\n      <td>As the bus empties the students for their fie...</td>\n    </tr>\n    <tr>\n      <th>3</th>\n      <td>The Secret Sin (1915)</td>\n      <td>drama</td>\n      <td>To help their unemployed father make ends mee...</td>\n    </tr>\n    <tr>\n      <th>4</th>\n      <td>The Unrecovered (2007)</td>\n      <td>drama</td>\n      <td>The film's title refers not only to the un-re...</td>\n    </tr>\n    <tr>\n      <th>...</th>\n      <td>...</td>\n      <td>...</td>\n      <td>...</td>\n    </tr>\n    <tr>\n      <th>54209</th>\n      <td>\"Bonino\" (1953)</td>\n      <td>comedy</td>\n      <td>This short-lived NBC live sitcom centered on ...</td>\n    </tr>\n    <tr>\n      <th>54210</th>\n      <td>Dead Girls Don't Cry (????)</td>\n      <td>horror</td>\n      <td>The NEXT Generation of EXPLOITATION. The sist...</td>\n    </tr>\n    <tr>\n      <th>54211</th>\n      <td>Ronald Goedemondt: Ze bestaan echt (2008)</td>\n      <td>documentary</td>\n      <td>Ze bestaan echt, is a stand-up comedy about g...</td>\n    </tr>\n    <tr>\n      <th>54212</th>\n      <td>Make Your Own Bed (1944)</td>\n      <td>comedy</td>\n      <td>Walter and Vivian live in the country and hav...</td>\n    </tr>\n    <tr>\n      <th>54213</th>\n      <td>Nature's Fury: Storm of the Century (2006)</td>\n      <td>history</td>\n      <td>On Labor Day Weekend, 1935, the most intense ...</td>\n    </tr>\n  </tbody>\n</table>\n<p>54214 rows × 3 columns</p>\n</div>"
     },
     "execution_count": 2,
     "metadata": {},
     "output_type": "execute_result"
    }
   ],
   "source": [
    "# read the data\n",
    "# Train data:\n",
    "# ID ::: TITLE ::: GENRE ::: DESCRIPTION\n",
    "# ID ::: TITLE ::: GENRE ::: DESCRIPTION\n",
    "# ID ::: TITLE ::: GENRE ::: DESCRIPTION\n",
    "# ID ::: TITLE ::: GENRE ::: DESCRIPTION\n",
    "# \n",
    "# Test data:\n",
    "# ID ::: TITLE ::: DESCRIPTION\n",
    "# ID ::: TITLE ::: DESCRIPTION\n",
    "# ID ::: TITLE ::: DESCRIPTION\n",
    "# ID ::: TITLE ::: DESCRIPTION\n",
    "# \n",
    "# Source:\n",
    "# ftp://ftp.fu-berlin.de/pub/misc/movies/database/\n",
    "imdb_data = pd.read_table('Genre Classification Dataset/train_data.txt' , sep = ':::', header = None, names = [ 'TITLE', 'GENRE', 'DESCRIPTION'] , engine = 'python').reset_index(drop = True)\n",
    "imdb_data"
   ],
   "metadata": {
    "collapsed": false,
    "ExecuteTime": {
     "end_time": "2023-12-30T09:38:45.966865100Z",
     "start_time": "2023-12-30T09:38:45.242865800Z"
    }
   },
   "id": "d84a449d0b363ba6"
  },
  {
   "cell_type": "code",
   "outputs": [
    {
     "data": {
      "text/plain": "                                  TITLE  \\\n0                 Edgar's Lunch (1998)    \n1             La guerra de papá (1977)    \n2          Off the Beaten Track (2010)    \n3               Meu Amigo Hindu (2015)    \n4                    Er nu zhai (1955)    \n...                                 ...   \n54195   \"Tales of Light & Dark\" (2013)    \n54196      Der letzte Mohikaner (1965)    \n54197              Oliver Twink (2007)    \n54198                Slipstream (1973)    \n54199        Curitiba Zero Grau (2010)    \n\n                                             DESCRIPTION  \n0       L.R. Brane loves his life - his car, his apar...  \n1       Spain, March 1964: Quico is a very naughty ch...  \n2       One year in the life of Albin and his family ...  \n3       His father has died, he hasn't spoken with hi...  \n4       Before he was known internationally as a mart...  \n...                                                  ...  \n54195   Covering multiple genres, Tales of Light & Da...  \n54196   As Alice and Cora Munro attempt to find their...  \n54197   A movie 169 years in the making. Oliver Twist...  \n54198   Popular, but mysterious rock D.J Mike Mallard...  \n54199   Curitiba is a city in movement, with rhythms ...  \n\n[54200 rows x 2 columns]",
      "text/html": "<div>\n<style scoped>\n    .dataframe tbody tr th:only-of-type {\n        vertical-align: middle;\n    }\n\n    .dataframe tbody tr th {\n        vertical-align: top;\n    }\n\n    .dataframe thead th {\n        text-align: right;\n    }\n</style>\n<table border=\"1\" class=\"dataframe\">\n  <thead>\n    <tr style=\"text-align: right;\">\n      <th></th>\n      <th>TITLE</th>\n      <th>DESCRIPTION</th>\n    </tr>\n  </thead>\n  <tbody>\n    <tr>\n      <th>0</th>\n      <td>Edgar's Lunch (1998)</td>\n      <td>L.R. Brane loves his life - his car, his apar...</td>\n    </tr>\n    <tr>\n      <th>1</th>\n      <td>La guerra de papá (1977)</td>\n      <td>Spain, March 1964: Quico is a very naughty ch...</td>\n    </tr>\n    <tr>\n      <th>2</th>\n      <td>Off the Beaten Track (2010)</td>\n      <td>One year in the life of Albin and his family ...</td>\n    </tr>\n    <tr>\n      <th>3</th>\n      <td>Meu Amigo Hindu (2015)</td>\n      <td>His father has died, he hasn't spoken with hi...</td>\n    </tr>\n    <tr>\n      <th>4</th>\n      <td>Er nu zhai (1955)</td>\n      <td>Before he was known internationally as a mart...</td>\n    </tr>\n    <tr>\n      <th>...</th>\n      <td>...</td>\n      <td>...</td>\n    </tr>\n    <tr>\n      <th>54195</th>\n      <td>\"Tales of Light &amp; Dark\" (2013)</td>\n      <td>Covering multiple genres, Tales of Light &amp; Da...</td>\n    </tr>\n    <tr>\n      <th>54196</th>\n      <td>Der letzte Mohikaner (1965)</td>\n      <td>As Alice and Cora Munro attempt to find their...</td>\n    </tr>\n    <tr>\n      <th>54197</th>\n      <td>Oliver Twink (2007)</td>\n      <td>A movie 169 years in the making. Oliver Twist...</td>\n    </tr>\n    <tr>\n      <th>54198</th>\n      <td>Slipstream (1973)</td>\n      <td>Popular, but mysterious rock D.J Mike Mallard...</td>\n    </tr>\n    <tr>\n      <th>54199</th>\n      <td>Curitiba Zero Grau (2010)</td>\n      <td>Curitiba is a city in movement, with rhythms ...</td>\n    </tr>\n  </tbody>\n</table>\n<p>54200 rows × 2 columns</p>\n</div>"
     },
     "execution_count": 3,
     "metadata": {},
     "output_type": "execute_result"
    }
   ],
   "source": [
    "# read the test data\n",
    "imdb_test_data = pd.read_table('Genre Classification Dataset/test_data.txt' , sep = ':::', header = None, names = [ 'TITLE', 'DESCRIPTION'] , engine = 'python').reset_index(drop = True)\n",
    "imdb_test_data"
   ],
   "metadata": {
    "collapsed": false,
    "ExecuteTime": {
     "end_time": "2023-12-30T09:38:46.759423300Z",
     "start_time": "2023-12-30T09:38:45.900316200Z"
    }
   },
   "id": "500e08c073b37ab2",
   "execution_count": 3
  },
  {
   "cell_type": "code",
   "outputs": [
    {
     "data": {
      "text/plain": "                                  TITLE          GENRE  \\\n0                 Edgar's Lunch (1998)       thriller    \n1             La guerra de papá (1977)         comedy    \n2          Off the Beaten Track (2010)    documentary    \n3               Meu Amigo Hindu (2015)          drama    \n4                    Er nu zhai (1955)          drama    \n...                                 ...            ...   \n54195   \"Tales of Light & Dark\" (2013)         horror    \n54196      Der letzte Mohikaner (1965)        western    \n54197              Oliver Twink (2007)          adult    \n54198                Slipstream (1973)          drama    \n54199        Curitiba Zero Grau (2010)          drama    \n\n                                             DESCRIPTION  \n0       L.R. Brane loves his life - his car, his apar...  \n1       Spain, March 1964: Quico is a very naughty ch...  \n2       One year in the life of Albin and his family ...  \n3       His father has died, he hasn't spoken with hi...  \n4       Before he was known internationally as a mart...  \n...                                                  ...  \n54195   Covering multiple genres, Tales of Light & Da...  \n54196   As Alice and Cora Munro attempt to find their...  \n54197   A movie 169 years in the making. Oliver Twist...  \n54198   Popular, but mysterious rock D.J Mike Mallard...  \n54199   Curitiba is a city in movement, with rhythms ...  \n\n[54200 rows x 3 columns]",
      "text/html": "<div>\n<style scoped>\n    .dataframe tbody tr th:only-of-type {\n        vertical-align: middle;\n    }\n\n    .dataframe tbody tr th {\n        vertical-align: top;\n    }\n\n    .dataframe thead th {\n        text-align: right;\n    }\n</style>\n<table border=\"1\" class=\"dataframe\">\n  <thead>\n    <tr style=\"text-align: right;\">\n      <th></th>\n      <th>TITLE</th>\n      <th>GENRE</th>\n      <th>DESCRIPTION</th>\n    </tr>\n  </thead>\n  <tbody>\n    <tr>\n      <th>0</th>\n      <td>Edgar's Lunch (1998)</td>\n      <td>thriller</td>\n      <td>L.R. Brane loves his life - his car, his apar...</td>\n    </tr>\n    <tr>\n      <th>1</th>\n      <td>La guerra de papá (1977)</td>\n      <td>comedy</td>\n      <td>Spain, March 1964: Quico is a very naughty ch...</td>\n    </tr>\n    <tr>\n      <th>2</th>\n      <td>Off the Beaten Track (2010)</td>\n      <td>documentary</td>\n      <td>One year in the life of Albin and his family ...</td>\n    </tr>\n    <tr>\n      <th>3</th>\n      <td>Meu Amigo Hindu (2015)</td>\n      <td>drama</td>\n      <td>His father has died, he hasn't spoken with hi...</td>\n    </tr>\n    <tr>\n      <th>4</th>\n      <td>Er nu zhai (1955)</td>\n      <td>drama</td>\n      <td>Before he was known internationally as a mart...</td>\n    </tr>\n    <tr>\n      <th>...</th>\n      <td>...</td>\n      <td>...</td>\n      <td>...</td>\n    </tr>\n    <tr>\n      <th>54195</th>\n      <td>\"Tales of Light &amp; Dark\" (2013)</td>\n      <td>horror</td>\n      <td>Covering multiple genres, Tales of Light &amp; Da...</td>\n    </tr>\n    <tr>\n      <th>54196</th>\n      <td>Der letzte Mohikaner (1965)</td>\n      <td>western</td>\n      <td>As Alice and Cora Munro attempt to find their...</td>\n    </tr>\n    <tr>\n      <th>54197</th>\n      <td>Oliver Twink (2007)</td>\n      <td>adult</td>\n      <td>A movie 169 years in the making. Oliver Twist...</td>\n    </tr>\n    <tr>\n      <th>54198</th>\n      <td>Slipstream (1973)</td>\n      <td>drama</td>\n      <td>Popular, but mysterious rock D.J Mike Mallard...</td>\n    </tr>\n    <tr>\n      <th>54199</th>\n      <td>Curitiba Zero Grau (2010)</td>\n      <td>drama</td>\n      <td>Curitiba is a city in movement, with rhythms ...</td>\n    </tr>\n  </tbody>\n</table>\n<p>54200 rows × 3 columns</p>\n</div>"
     },
     "execution_count": 4,
     "metadata": {},
     "output_type": "execute_result"
    }
   ],
   "source": [
    "test_data_solution = pd.read_table('Genre Classification Dataset/test_data_solution.txt' , sep = ':::', header = None, names = [ 'TITLE','GENRE','DESCRIPTION'] , engine = 'python').reset_index(drop = True)\n",
    "test_data_solution"
   ],
   "metadata": {
    "collapsed": false,
    "ExecuteTime": {
     "end_time": "2023-12-30T09:38:47.181697300Z",
     "start_time": "2023-12-30T09:38:46.449791600Z"
    }
   },
   "id": "ef6422120585ed07",
   "execution_count": 4
  },
  {
   "cell_type": "code",
   "outputs": [
    {
     "data": {
      "text/plain": "                                 TITLE    GENRE  \\\ncount                            54214    54214   \nunique                           54214       27   \ntop      Oscar et la dame rose (2009)    drama    \nfreq                                 1    13613   \n\n                                              DESCRIPTION  \ncount                                               54214  \nunique                                              54086  \ntop      Grammy - music award of the American academy ...  \nfreq                                                   12  ",
      "text/html": "<div>\n<style scoped>\n    .dataframe tbody tr th:only-of-type {\n        vertical-align: middle;\n    }\n\n    .dataframe tbody tr th {\n        vertical-align: top;\n    }\n\n    .dataframe thead th {\n        text-align: right;\n    }\n</style>\n<table border=\"1\" class=\"dataframe\">\n  <thead>\n    <tr style=\"text-align: right;\">\n      <th></th>\n      <th>TITLE</th>\n      <th>GENRE</th>\n      <th>DESCRIPTION</th>\n    </tr>\n  </thead>\n  <tbody>\n    <tr>\n      <th>count</th>\n      <td>54214</td>\n      <td>54214</td>\n      <td>54214</td>\n    </tr>\n    <tr>\n      <th>unique</th>\n      <td>54214</td>\n      <td>27</td>\n      <td>54086</td>\n    </tr>\n    <tr>\n      <th>top</th>\n      <td>Oscar et la dame rose (2009)</td>\n      <td>drama</td>\n      <td>Grammy - music award of the American academy ...</td>\n    </tr>\n    <tr>\n      <th>freq</th>\n      <td>1</td>\n      <td>13613</td>\n      <td>12</td>\n    </tr>\n  </tbody>\n</table>\n</div>"
     },
     "execution_count": 5,
     "metadata": {},
     "output_type": "execute_result"
    }
   ],
   "source": [
    "imdb_data.describe()"
   ],
   "metadata": {
    "collapsed": false,
    "ExecuteTime": {
     "end_time": "2023-12-30T09:38:47.433130400Z",
     "start_time": "2023-12-30T09:38:47.076827900Z"
    }
   },
   "id": "25c1979794d50bd5",
   "execution_count": 5
  },
  {
   "cell_type": "code",
   "outputs": [
    {
     "data": {
      "text/plain": "array([' drama ', ' thriller ', ' adult ', ' documentary ', ' comedy ',\n       ' crime ', ' reality-tv ', ' horror ', ' sport ', ' animation ',\n       ' action ', ' fantasy ', ' short ', ' sci-fi ', ' music ',\n       ' adventure ', ' talk-show ', ' western ', ' family ', ' mystery ',\n       ' history ', ' news ', ' biography ', ' romance ', ' game-show ',\n       ' musical ', ' war '], dtype=object)"
     },
     "execution_count": 6,
     "metadata": {},
     "output_type": "execute_result"
    }
   ],
   "source": [
    "imdb_data.GENRE.unique()"
   ],
   "metadata": {
    "collapsed": false,
    "ExecuteTime": {
     "end_time": "2023-12-30T09:38:47.472663Z",
     "start_time": "2023-12-30T09:38:47.246445700Z"
    }
   },
   "id": "83b148d6ea1cd2",
   "execution_count": 6
  },
  {
   "cell_type": "code",
   "outputs": [
    {
     "data": {
      "text/plain": "Empty DataFrame\nColumns: [TITLE, GENRE, DESCRIPTION]\nIndex: []",
      "text/html": "<div>\n<style scoped>\n    .dataframe tbody tr th:only-of-type {\n        vertical-align: middle;\n    }\n\n    .dataframe tbody tr th {\n        vertical-align: top;\n    }\n\n    .dataframe thead th {\n        text-align: right;\n    }\n</style>\n<table border=\"1\" class=\"dataframe\">\n  <thead>\n    <tr style=\"text-align: right;\">\n      <th></th>\n      <th>TITLE</th>\n      <th>GENRE</th>\n      <th>DESCRIPTION</th>\n    </tr>\n  </thead>\n  <tbody>\n  </tbody>\n</table>\n</div>"
     },
     "execution_count": 7,
     "metadata": {},
     "output_type": "execute_result"
    }
   ],
   "source": [
    "imdb_data.query('GENRE == \"Action\"')"
   ],
   "metadata": {
    "collapsed": false,
    "ExecuteTime": {
     "end_time": "2023-12-30T09:38:47.552066100Z",
     "start_time": "2023-12-30T09:38:47.261246500Z"
    }
   },
   "id": "997777d4a20c52ff",
   "execution_count": 7
  },
  {
   "cell_type": "code",
   "outputs": [
    {
     "data": {
      "text/plain": "(54214,)"
     },
     "execution_count": 8,
     "metadata": {},
     "output_type": "execute_result"
    }
   ],
   "source": [
    "imdb_data.TITLE.unique().shape"
   ],
   "metadata": {
    "collapsed": false,
    "ExecuteTime": {
     "end_time": "2023-12-30T09:38:47.632433100Z",
     "start_time": "2023-12-30T09:38:47.296153400Z"
    }
   },
   "id": "984cdb7f59cf6893",
   "execution_count": 8
  },
  {
   "cell_type": "code",
   "outputs": [
    {
     "data": {
      "text/plain": "array([' Listening in to a conversation between his doctor and parents, 10-year-old Oscar learns what nobody has the courage to tell him. He only has a few weeks to live. Furious, he refuses to speak to anyone except straight-talking Rose, the lady in pink he meets on the hospital stairs. As Christmas approaches, Rose uses her fantastical experiences as a professional wrestler, her imagination, wit and charm to allow Oscar to live life and love to the full, in the company of his friends Pop Corn, Einstein, Bacon and childhood sweetheart Peggy Blue.',\n       ' A brother and sister with a past incestuous relationship have a current murderous relationship. He murders the women who reject him and she murders the women who get too close to him.',\n       ' As the bus empties the students for their field trip to the Museum of Natural History, little does the tour guide suspect that the students are there for more than just another tour. First, during the lecture films, the coeds drift into dreams of the most erotic fantasies one can imagine. After the films, they release the emotion of the fantasies in the most erotic and uncommon ways. One slips off to the curator\\'s office for a little \"acquisition. \" Another finds the anthropologist to see what bones can be identified. Even the head teacher isn\\'t immune. Soon the tour is over, but as the bus departs, everyone admits it was quite an education.',\n       ...,\n       \" Ze bestaan echt, is a stand-up comedy about growing up and facing your fears. Freer and more organic than in 'Spek' Ronald speaks about which are the things to watch out for, what is going on 'out there' and how you can recognize people who are not okay.\",\n       \" Walter and Vivian live in the country and have a difficult time keeping servants. Walter hires an private detective who has been fired for arresting the District Attorney. They only way that Walter can get Jerry to work for him is to tell Jerry that his life is in danger; the neighbor is trying to take his wife; and that Nazi spies are everywhere. Jerry needs a cook for his 'cover' so he gets his fiancée Susan to work with him. To keep Jerry working, Walter sends the threatening letters to himself and hires actors to play the spies. It soon becomes apparent that Susan cannot cook and Jerry could not find a spy if he tripped over him.\",\n       \" On Labor Day Weekend, 1935, the most intense hurricane to ever make landfall on America's shores hit the Florida Keys. The country was just starting to recover from the Great Depression when the ferocious beast with its 200 mile-an-hour winds and violent storm surge overpowered nearly everything in it's path.\"],\n      dtype=object)"
     },
     "execution_count": 9,
     "metadata": {},
     "output_type": "execute_result"
    }
   ],
   "source": [
    "imdb_data['DESCRIPTION'].values"
   ],
   "metadata": {
    "collapsed": false,
    "ExecuteTime": {
     "end_time": "2023-12-30T09:38:47.709954700Z",
     "start_time": "2023-12-30T09:38:47.324403800Z"
    }
   },
   "id": "df64316c532cf148",
   "execution_count": 9
  },
  {
   "cell_type": "code",
   "outputs": [],
   "source": [
    "#vectorization\n",
    "vectorizer = TfidfVectorizer(stop_words = 'english' , min_df=2 , ngram_range=(1,1) )\n",
    "x_train = vectorizer.fit_transform(imdb_data['DESCRIPTION'].values)\n",
    "x_test = vectorizer.transform(imdb_test_data['DESCRIPTION'].values)"
   ],
   "metadata": {
    "collapsed": false,
    "ExecuteTime": {
     "end_time": "2023-12-30T09:39:01.389897500Z",
     "start_time": "2023-12-30T09:38:47.341275600Z"
    }
   },
   "id": "fb03a0b99f19afc0",
   "execution_count": 10
  }
 ],
 "metadata": {
  "kernelspec": {
   "display_name": "Python 3 (ipykernel)",
   "language": "python",
   "name": "python3"
  },
  "language_info": {
   "codemirror_mode": {
    "name": "ipython",
    "version": 3
   },
   "file_extension": ".py",
   "mimetype": "text/x-python",
   "name": "python",
   "nbconvert_exporter": "python",
   "pygments_lexer": "ipython3",
   "version": "3.11.5"
  }
 },
 "nbformat": 4,
 "nbformat_minor": 5
}
